{
 "cells": [
  {
   "cell_type": "code",
   "id": "initial_id",
   "metadata": {
    "collapsed": true,
    "ExecuteTime": {
     "end_time": "2024-04-30T13:16:36.183390Z",
     "start_time": "2024-04-30T13:16:35.814777Z"
    }
   },
   "source": [
    "import numpy as np\n",
    "from PIL import Image\n",
    "import os\n",
    "from sklearn.model_selection import train_test_split\n",
    "from collections import Counter\n",
    "import matplotlib.pyplot as plt\n",
    "from sklearn.tree import DecisionTreeClassifier\n",
    "from sklearn.metrics import accuracy_score\n",
    "from sklearn.metrics import confusion_matrix\n",
    "import seaborn as sns\n",
    "import matplotlib.pyplot as plt\n",
    "from sklearn.metrics import classification_report\n",
    "from sklearn.linear_model import LogisticRegression\n"
   ],
   "outputs": [],
   "execution_count": 1
  },
  {
   "metadata": {},
   "cell_type": "markdown",
   "source": "",
   "id": "12eece38d9eb05a4"
  },
  {
   "metadata": {
    "ExecuteTime": {
     "end_time": "2024-04-30T13:16:36.190339Z",
     "start_time": "2024-04-30T13:16:36.183390Z"
    }
   },
   "cell_type": "code",
   "source": [
    "def load_images_from_directory(directory):\n",
    "    data = []\n",
    "    labels = []\n",
    "    classes = sorted(os.listdir(directory))  # Asegúrate de que 'directory' no contenga archivos ocultos\n",
    "\n",
    "    for class_index, class_name in enumerate(classes):\n",
    "        class_dir = os.path.join(directory, class_name)\n",
    "        if os.path.isdir(class_dir):\n",
    "            for filename in os.listdir(class_dir):\n",
    "                image_path = os.path.join(class_dir, filename)\n",
    "                if image_path.lower().endswith(('.png', '.jpg', '.jpeg')):\n",
    "                    image = Image.open(image_path)\n",
    "                    image_array = np.array(image)\n",
    "                    data.append(image_array)\n",
    "                    labels.append(class_index)\n",
    "\n",
    "    return np.array(data), np.array(labels)"
   ],
   "id": "cc0d2a72ac79c7e4",
   "outputs": [],
   "execution_count": 2
  },
  {
   "metadata": {
    "ExecuteTime": {
     "end_time": "2024-04-30T13:16:47.329674Z",
     "start_time": "2024-04-30T13:16:36.191377Z"
    }
   },
   "cell_type": "code",
   "source": [
    "dataset_path = '../satellite_images'\n",
    "images, labels = load_images_from_directory(dataset_path)"
   ],
   "id": "589993d31a1682f",
   "outputs": [],
   "execution_count": 3
  },
  {
   "metadata": {
    "ExecuteTime": {
     "end_time": "2024-04-30T13:16:47.334955Z",
     "start_time": "2024-04-30T13:16:47.329674Z"
    }
   },
   "cell_type": "code",
   "source": [
    "print(f\"Total de imágenes cargadas: {len(images)}\")\n",
    "print(f\"Dimensiones de una imagen ejemplo: {images[0].shape}\")\n",
    "print(f\"Etiqueta de la primera imagen: {labels[0]}\")\n"
   ],
   "id": "fe9f69c8dfd14ef5",
   "outputs": [
    {
     "name": "stdout",
     "output_type": "stream",
     "text": [
      "Total de imágenes cargadas: 27000\n",
      "Dimensiones de una imagen ejemplo: (64, 64, 3)\n",
      "Etiqueta de la primera imagen: 0\n"
     ]
    }
   ],
   "execution_count": 4
  },
  {
   "metadata": {
    "ExecuteTime": {
     "end_time": "2024-04-30T13:16:47.527143Z",
     "start_time": "2024-04-30T13:16:47.336614Z"
    }
   },
   "cell_type": "code",
   "source": [
    "class_distribution = Counter(labels)\n",
    "plt.bar(class_distribution.keys(), class_distribution.values())\n",
    "plt.title(\"Distribució de Classes\")\n",
    "plt.xlabel(\"Classe\")\n",
    "plt.ylabel(\"Nombre d'Imatges\")\n",
    "plt.show()\n"
   ],
   "id": "824d088a348c7fd",
   "outputs": [
    {
     "data": {
      "text/plain": [
       "<Figure size 640x480 with 1 Axes>"
      ],
      "image/png": "[encoded data removed]"
     },
     "metadata": {},
     "output_type": "display_data"
    }
   ],
   "execution_count": 5
  },
  {
   "metadata": {
    "ExecuteTime": {
     "end_time": "2024-04-30T13:16:47.539040Z",
     "start_time": "2024-04-30T13:16:47.527143Z"
    }
   },
   "cell_type": "code",
   "source": [
    "dimensions = [img.shape for img in images]\n",
    "print(\"Dimensions úniques d'imatges:\", set(dimensions))\n"
   ],
   "id": "3704ae8d039f8626",
   "outputs": [
    {
     "name": "stdout",
     "output_type": "stream",
     "text": [
      "Dimensions úniques d'imatges: {(64, 64, 3)}\n"
     ]
    }
   ],
   "execution_count": 6
  },
  {
   "metadata": {
    "ExecuteTime": {
     "end_time": "2024-04-30T13:16:48.185507Z",
     "start_time": "2024-04-30T13:16:47.539040Z"
    }
   },
   "cell_type": "code",
   "source": "images_normalized = np.array(images, dtype=np.float32) / 255.0\n",
   "id": "392a4d1b36f658cf",
   "outputs": [],
   "execution_count": 7
  },
  {
   "metadata": {
    "ExecuteTime": {
     "end_time": "2024-04-30T13:16:48.454219Z",
     "start_time": "2024-04-30T13:16:48.185507Z"
    }
   },
   "cell_type": "code",
   "source": [
    "X_train, X_test, y_train, y_test = train_test_split(images_normalized, labels, test_size=0.2, random_state=42)\n",
    "\n",
    "print(\"Distribución de clases en el conjunto de entrenamiento:\", Counter(y_train))\n",
    "print(\"Distribución de clases en el conjunto de prueba:\", Counter(y_test))"
   ],
   "id": "f3767ae819c29e69",
   "outputs": [
    {
     "name": "stdout",
     "output_type": "stream",
     "text": [
      "Distribución de clases en el conjunto de entrenamiento: Counter({0: 2405, 7: 2403, 2: 2398, 1: 2394, 9: 2394, 6: 2027, 8: 2010, 4: 2007, 3: 1985, 5: 1577})\n",
      "Distribución de clases en el conjunto de prueba: Counter({1: 606, 9: 606, 2: 602, 7: 597, 0: 595, 3: 515, 4: 493, 8: 490, 6: 473, 5: 423})\n"
     ]
    }
   ],
   "execution_count": 8
  },
  {
   "metadata": {
    "jupyter": {
     "is_executing": true
    },
    "ExecuteTime": {
     "start_time": "2024-04-30T13:16:48.455758Z"
    }
   },
   "cell_type": "code",
   "source": [
    "dtree = DecisionTreeClassifier(random_state=42)\n",
    "dtree.fit(X_train.reshape((X_train.shape[0], -1)), y_train)\n",
    "y_pred = dtree.predict(X_test.reshape((X_test.shape[0], -1)))"
   ],
   "id": "56227d67a302796",
   "outputs": [],
   "execution_count": null
  },
  {
   "metadata": {
    "jupyter": {
     "is_executing": true
    }
   },
   "cell_type": "code",
   "source": [
    "accuracy = accuracy_score(y_test, y_pred)\n",
    "print(f\"Adjusted Accuracy: {accuracy}\")\n",
    "conf_matrix = confusion_matrix(y_test, y_pred)\n",
    "plt.figure(figsize=(10, 7))\n",
    "sns.heatmap(conf_matrix, annot=True, fmt=\"d\", cmap=\"Blues\")\n",
    "plt.title(\"Adjusted Confusion Matrix\")\n",
    "plt.xlabel(\"Predicted Label\")\n",
    "plt.ylabel(\"True Label\")\n",
    "plt.show()\n",
    "print(classification_report(y_test, y_pred))\n"
   ],
   "id": "57b5fe0ff30e6d5b",
   "outputs": [],
   "execution_count": null
  },
  {
   "metadata": {
    "jupyter": {
     "is_executing": true
    }
   },
   "cell_type": "code",
   "source": "",
   "id": "8bb3faab9e985b4f",
   "outputs": [],
   "execution_count": null
  }
 ],
 "metadata": {
  "kernelspec": {
   "display_name": "Python 3",
   "language": "python",
   "name": "python3"
  },
  "language_info": {
   "codemirror_mode": {
    "name": "ipython",
    "version": 2
   },
   "file_extension": ".py",
   "mimetype": "text/x-python",
   "name": "python",
   "nbconvert_exporter": "python",
   "pygments_lexer": "ipython2",
   "version": "2.7.6"
  }
 },
 "nbformat": 4,
 "nbformat_minor": 5
}
